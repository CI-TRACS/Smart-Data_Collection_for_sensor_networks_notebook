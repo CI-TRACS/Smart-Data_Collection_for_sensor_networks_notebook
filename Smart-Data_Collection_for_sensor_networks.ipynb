{
 "cells": [
  {
   "cell_type": "code",
   "execution_count": null,
   "metadata": {},
   "outputs": [],
   "source": [
    "import getpass\n",
    "from datetime import datetime, timedelta\n",
    "from tapipy.tapis import Tapis\n",
    "from random import gauss"
   ]
  },
  {
   "cell_type": "code",
   "execution_count": null,
   "metadata": {},
   "outputs": [],
   "source": [
    "username = getpass.getpass(prompt = \"Username: \", stream=None)\n",
    "password = getpass.getpass(prompt = \"Password: \", stream=None)\n",
    "\n",
    "base_url = \"https://training.tapis.io\"\n",
    "\n",
    "client = Tapis(\n",
    "    base_url = base_url, \n",
    "    username = username,\n",
    "    password = password\n",
    ") \n",
    "\n",
    "#generate access token\n",
    "client.get_tokens()"
   ]
  },
  {
   "cell_type": "code",
   "execution_count": null,
   "metadata": {},
   "outputs": [],
   "source": [
    "client.access_token"
   ]
  },
  {
   "cell_type": "code",
   "execution_count": null,
   "metadata": {},
   "outputs": [],
   "source": [
    "username = username + 'a'"
   ]
  },
  {
   "cell_type": "code",
   "execution_count": null,
   "metadata": {},
   "outputs": [],
   "source": [
    "project_id = f\"smart_data_workshop_project_{username}\"\n",
    "site_id = f\"smart_data_workshop_site_{username}\"\n",
    "inst_id = f\"smart_data_workshop_instrument_{username}\""
   ]
  },
  {
   "cell_type": "code",
   "execution_count": null,
   "metadata": {},
   "outputs": [],
   "source": [
    "#define and create project\n",
    "project = {\n",
    "    \"project_name\": project_id,\n",
    "    \"description\": f\"A smart data workshop project for user {username}\",\n",
    "    \"owner\": username,\n",
    "    \"pi\": username,\n",
    "    \"active\": True,\n",
    "    \"metadata\": {}\n",
    "}\n",
    "proj = client.streams.create_project(**project)\n",
    "proj"
   ]
  },
  {
   "cell_type": "code",
   "execution_count": null,
   "metadata": {},
   "outputs": [],
   "source": [
    "#define and create site\n",
    "site = {\n",
    "    \"project_id\": project_id,\n",
    "    \"request_body\": [{\n",
    "        \"site_name\": site_id,\n",
    "        \"site_id\": site_id,\n",
    "        \"description\": f\"A smart data workshop site for user {username}\",\n",
    "        \"latitude\": 19.89,\n",
    "        \"longitude\": 155.58,\n",
    "        \"elevation\": 10,\n",
    "        \"metadata\": {}\n",
    "    }]\n",
    "}\n",
    "site = client.streams.create_site(**site)\n",
    "site"
   ]
  },
  {
   "cell_type": "code",
   "execution_count": null,
   "metadata": {},
   "outputs": [],
   "source": [
    "#define and create instrument\n",
    "instrument = {\n",
    "    \"project_id\": project_id,\n",
    "    \"site_id\": site_id,\n",
    "    \"request_body\": [{\n",
    "        \"inst_name\": inst_id,\n",
    "        \"inst_id\": inst_id,\n",
    "        \"inst_description\": f\"A smart data workshop instrument for user {username}\",\n",
    "        \"metadata\": {}\n",
    "    }]\n",
    "}\n",
    "inst = client.streams.create_instrument(**instrument)\n",
    "inst"
   ]
  },
  {
   "cell_type": "code",
   "execution_count": null,
   "metadata": {},
   "outputs": [],
   "source": [
    "#define and create variables\n",
    "variables = {\n",
    "    \"project_id\": project_id,\n",
    "    \"site_id\": site_id,\n",
    "    \"inst_id\": inst_id,\n",
    "    \"request_body\": [{\n",
    "        \"var_name\": \"rainfall\",\n",
    "        \"var_id\": \"rainfall\",\n",
    "        \"units\": \"mm\",\n",
    "        \"shortname\": \"rf\",\n",
    "        \"metadata\": {}\n",
    "    },\n",
    "    {\n",
    "        \"var_name\": \"temperature\",\n",
    "        \"var_id\": \"temperature\",\n",
    "        \"units\": \"C\",\n",
    "        \"shortname\": \"temp\",\n",
    "        \"metadata\": {}\n",
    "    }]\n",
    "}\n",
    "streams_vars = client.streams.create_variable(**variables)\n",
    "streams_vars"
   ]
  },
  {
   "cell_type": "code",
   "execution_count": null,
   "metadata": {},
   "outputs": [],
   "source": [
    "#define variable generation information\n",
    "avg_temp_c = 27\n",
    "avg_rainfall_mm = 10\n",
    "rainfall_stddev = 3\n",
    "temp_stddev = 3"
   ]
  },
  {
   "cell_type": "code",
   "execution_count": null,
   "metadata": {},
   "outputs": [],
   "source": [
    "#Write Measurements - to trigger our Discord Channel\n",
    "from datetime import datetime\n",
    "import random\n",
    "from random import randint\n",
    "variables = []\n",
    "#generate 10 sensor records\n",
    "for i in range(0, 100):\n",
    "    datetime_now = datetime.now().isoformat()\n",
    "    variables.append({\"temperature\": randint(60, 89),\n",
    "                        \"rainfall\": randint(10, 200),\n",
    "                        \"datetime\":datetime_now\n",
    "                        })\n",
    "#write observations to measurements endpoint for our instrument\n",
    "result = client.streams.create_measurement(inst_id=inst_id, vars=variables)\n",
    "print(result)"
   ]
  },
  {
   "cell_type": "code",
   "execution_count": null,
   "metadata": {},
   "outputs": [],
   "source": [
    "#generate random measurement data and create measurements\n",
    "data = []\n",
    "timestamp = datetime.fromisoformat(\"2022-01-01T00:00:00\")\n",
    "for i in range(365):\n",
    "    temp = round(gauss(avg_temp_c, temp_stddev), 2)\n",
    "    rainfall = max(round(gauss(avg_rainfall_mm, rainfall_stddev), 2), 0)\n",
    "    timestamp_s = timestamp.isoformat()\n",
    "    data.append({\n",
    "        \"datetime\": timestamp_s,\n",
    "        \"temperature\": temp,\n",
    "        \"rainfall\": rainfall\n",
    "    })\n",
    "    timestamp = timestamp + timedelta(days = 1)\n",
    "measurements = {\n",
    "    \"inst_id\": inst_id,\n",
    "    \"vars\": data\n",
    "}\n",
    "client.streams.create_measurement(**measurements)"
   ]
  },
  {
   "cell_type": "code",
   "execution_count": null,
   "metadata": {},
   "outputs": [],
   "source": [
    "#define threshold values (values exceeding 2 standard deviations)\n",
    "temp_thresholds = [avg_temp_c - temp_stddev * 2, avg_temp_c + temp_stddev * 2]\n",
    "rainfall_thresholds = [avg_rainfall_mm - rainfall_stddev * 2, avg_rainfall_mm + rainfall_stddev * 2]\n",
    "\n",
    "#get created measurements\n",
    "measurements_data = client.streams.download_measurements(inst_id = inst_id)\n",
    "\n",
    "#get data surpassing thresholds\n",
    "threshold_data = {\n",
    "    \"rainfall\": {},\n",
    "    \"temperature\": {}\n",
    "}\n",
    "for prop, val in vars(measurements_data.rainfall).items():\n",
    "    if val < rainfall_thresholds[0] or val > rainfall_thresholds[1]:\n",
    "        threshold_data[\"rainfall\"][prop] = val\n",
    "    \n",
    "for prop, val in vars(measurements_data.temperature).items():\n",
    "    if val < temp_thresholds[0] or val > temp_thresholds[1]:\n",
    "        threshold_data[\"temperature\"][prop] = val\n",
    "        \n",
    "print(threshold_data)"
   ]
  },
  {
   "cell_type": "code",
   "execution_count": null,
   "metadata": {},
   "outputs": [],
   "source": [
    "#Create a storage system in Tapis so we can upload and download data from our server\n",
    "system = client.systems.createSystem(id=\"training1_tutorial_vm4\",\n",
    "            description=\"VM storage\",\n",
    "            host=\"129.114.17.86\",\n",
    "            systemType=\"LINUX\",\n",
    "            defaultAuthnMethod=\"PASSWORD\",\n",
    "            effectiveUserId=\"training1\",\n",
    "            rootDir=\"/home/training1/\",\n",
    "            canExec=False)\n",
    "system"
   ]
  },
  {
   "cell_type": "code",
   "execution_count": null,
   "metadata": {},
   "outputs": [],
   "source": [
    "# Add login credentials so Tapis can access the system - NORMALLY WE USED SSH KEYS but for this tutorial we will utliize the password auth\n",
    "client.systems.createUserCredential(systemId=\"training1_tutorial_vm\",userName=\"training1\", password=\"training\")"
   ]
  },
  {
   "cell_type": "code",
   "execution_count": null,
   "metadata": {},
   "outputs": [],
   "source": [
    "#List the files in our home directory\n",
    "client.files.listFiles(systemId=\"training1_tutorial_vm\", path=\"/\")"
   ]
  },
  {
   "cell_type": "code",
   "execution_count": null,
   "metadata": {},
   "outputs": [],
   "source": [
    "#Create an Actor that we can pass to a channel to execute when a threshold triggers\n",
    "my_actor = client.actors.create_actor(image=\"scleveland/test_actor:0.0.29\",\n",
    "                                     name=\"Plot Streams Data\",\n",
    "                                     description=\"Actor that plots streams measurments.\",\n",
    "                                     default_environment={\"system_id\": \"training1_tutorial_vm\", \"destination_path\": \"/\"})\n",
    "                                     \n",
    "                                     \n",
    "my_actor"
   ]
  },
  {
   "cell_type": "code",
   "execution_count": null,
   "metadata": {},
   "outputs": [],
   "source": [
    "#Create a Channel to check for our Temperature exceeding 200- then execute an Actor to generate a plot and upload to our system\n",
    "channel = client.streams.create_channels(channel_id=\"demo.tapis.channel-training1ab\", \n",
    "                            channel_name='demo.tapis.channel-training1ab', \n",
    "                            template_id=\"default_threshold\",\n",
    "                            triggers_with_actions=[\n",
    "                                {\"inst_ids\":[\"smart_data_workshop_instrument_training1a\"],\n",
    "                                \"condition\":{\"key\":\"smart_data_workshop_instrument_training1a.temperature\",\n",
    "                                              \"operator\":\">\", \n",
    "                                              \"val\":100},\n",
    "                                 \"action\":{\"method\":\"ACTOR\",\"actor_id\" : \"wKBkXDM0YJrpX\",\n",
    "                                           \"message\":\"Instrument: smart_data_workshop_instrument_training1a exceeded Temperature threshold\"}}])\n",
    "channel"
   ]
  },
  {
   "cell_type": "code",
   "execution_count": null,
   "metadata": {},
   "outputs": [],
   "source": [
    "#Write Measurements - to trigger our Channel\n",
    "from datetime import datetime\n",
    "import random\n",
    "from random import randint\n",
    "variables = []\n",
    "#generate 10 sensor records\n",
    "for i in range(0, 1):\n",
    "    datetime_now = datetime.now().isoformat()\n",
    "    variables.append({\"temperature\": 230,\n",
    "                        \"rainfall\": 0,\n",
    "                        \"datetime\":datetime_now\n",
    "                        })\n",
    "#write observations to measurements endpoint for our instrument\n",
    "result = client.streams.create_measurement(inst_id=inst_id, vars=variables)\n",
    "print(result)"
   ]
  },
  {
   "cell_type": "code",
   "execution_count": null,
   "metadata": {},
   "outputs": [],
   "source": [
    "#List the Alerts issued on our Channel\n",
    "client.streams.list_alerts(channel_id=channel.channel_id)"
   ]
  },
  {
   "cell_type": "code",
   "execution_count": null,
   "metadata": {},
   "outputs": [],
   "source": [
    "#Fetch the latest alert and assign to a variable\n",
    "alert = client.streams.list_alerts(channel_id=channel.channel_id).alerts[0]"
   ]
  },
  {
   "cell_type": "code",
   "execution_count": null,
   "metadata": {},
   "outputs": [],
   "source": [
    "#Fetch our Actor execution log\n",
    "client.actors.get_execution_logs(actor_id=alert.actor_id, \n",
    "                                 execution_id=alert.execution_id)"
   ]
  },
  {
   "cell_type": "code",
   "execution_count": null,
   "metadata": {},
   "outputs": [],
   "source": [
    "#View our files on our VM - we should see the new plot file\n",
    "client.files.listFiles(systemId=\"training1_tutorial_vm\", path=\"/\")"
   ]
  },
  {
   "cell_type": "code",
   "execution_count": null,
   "metadata": {},
   "outputs": [],
   "source": [
    "#Lets download the file to view here in our notebook\n",
    "fileb =  client.files.getContents(systemId=\"training1_tutorial_vm\",path='/plot_2022-03-04T21:34:40Z.png')\n",
    "with open(\"download.png\",\"wb\") as f:\n",
    "    f.write(fileb)\n",
    "    f.close()"
   ]
  },
  {
   "cell_type": "code",
   "execution_count": null,
   "metadata": {},
   "outputs": [],
   "source": [
    "discord_channel = client.streams.create_channels(channel_id=\"training.discord.demo.tapis.channel\", \n",
    "                            channel_name='discorddevdemo.tapis.channel1', \n",
    "                            template_id=\"default_threshold\",\n",
    "                            triggers_with_actions=[\n",
    "                                {\"inst_ids\":[\"smart_data_workshop_instrument_training1a\"],\n",
    "                                 \"condition\":{\"key\":\"smart_data_workshop_instrument_training1a.rainfall\",\n",
    "                                              \"operator\":\">\", \n",
    "                                              \"val\":150},\n",
    "                                 \"action\":{\"method\":\"DISCORD\",\"webhook_url\" :\"https://discord.com/api/webhooks/948246389438152805/jKuniQuhsXXLtUKtMWZRyw4ExXvzUjk5Qr4-xd3kd10DBvYQd_G7FQFG2JKLFNe4-BRl\",\n",
    "                                           \"message\":\"My Instrument exceeded Temperature threshold val ${ r.value}\"}}], _tapis_debug=True)\n",
    "discord_channel\n"
   ]
  },
  {
   "cell_type": "code",
   "execution_count": null,
   "metadata": {},
   "outputs": [],
   "source": [
    "#Write Measurements - to trigger our Discord Channel\n",
    "from datetime import datetime\n",
    "import random\n",
    "from random import randint\n",
    "variables = []\n",
    "#generate 10 sensor records\n",
    "for i in range(0, 1):\n",
    "    datetime_now = datetime.now().isoformat()\n",
    "    variables.append({\"temperature\": 80,\n",
    "                        \"rainfall\": 200,\n",
    "                        \"datetime\":datetime_now\n",
    "                        })\n",
    "#write observations to measurements endpoint for our instrument\n",
    "result = client.streams.create_measurement(inst_id=inst_id, vars=variables)\n",
    "print(result)"
   ]
  },
  {
   "cell_type": "code",
   "execution_count": null,
   "metadata": {},
   "outputs": [],
   "source": []
  }
 ],
 "metadata": {
  "kernelspec": {
   "display_name": "Python 3 (ipykernel)",
   "language": "python",
   "name": "python3"
  },
  "language_info": {
   "codemirror_mode": {
    "name": "ipython",
    "version": 3
   },
   "file_extension": ".py",
   "mimetype": "text/x-python",
   "name": "python",
   "nbconvert_exporter": "python",
   "pygments_lexer": "ipython3",
   "version": "3.7.12"
  }
 },
 "nbformat": 4,
 "nbformat_minor": 4
}

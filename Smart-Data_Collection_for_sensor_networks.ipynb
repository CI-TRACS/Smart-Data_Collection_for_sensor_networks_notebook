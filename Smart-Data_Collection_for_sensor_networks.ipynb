{
 "cells": [
  {
   "cell_type": "code",
   "execution_count": null,
   "metadata": {},
   "outputs": [],
   "source": [
    "import getpass\n",
    "from datetime import datetime, timedelta\n",
    "from tapipy.tapis import Tapis\n",
    "from random import gauss"
   ]
  },
  {
   "cell_type": "code",
   "execution_count": null,
   "metadata": {},
   "outputs": [],
   "source": [
    "username = getpass.getpass(prompt = \"Username: \", stream=None)\n",
    "password = getpass.getpass(prompt = \"Password: \", stream=None)\n",
    "\n",
    "base_url = \"https://tacc.tapis.io\"\n",
    "\n",
    "client = Tapis(\n",
    "    base_url = base_url, \n",
    "    username = username,\n",
    "    password = password\n",
    ") \n",
    "\n",
    "#generate access token\n",
    "client.get_tokens()"
   ]
  },
  {
   "cell_type": "code",
   "execution_count": null,
   "metadata": {},
   "outputs": [],
   "source": [
    "project_id = f\"smart_data_workshop_project_{username}\"\n",
    "site_id = f\"smart_data_workshop_site_{username}\"\n",
    "inst_id = f\"smart_data_workshop_instrument_{username}\""
   ]
  },
  {
   "cell_type": "code",
   "execution_count": null,
   "metadata": {},
   "outputs": [],
   "source": [
    "#define and create project\n",
    "project = {\n",
    "    \"project_name\": project_id,\n",
    "    \"description\": f\"A smart data workshop project for user {username}\",\n",
    "    \"owner\": username,\n",
    "    \"pi\": username,\n",
    "    \"active\": True,\n",
    "    \"metadata\": {}\n",
    "}\n",
    "client.streams.create_project(**project)"
   ]
  },
  {
   "cell_type": "code",
   "execution_count": null,
   "metadata": {},
   "outputs": [],
   "source": [
    "#define and create site\n",
    "site = {\n",
    "    \"project_id\": project_id,\n",
    "    \"request_body\": [{\n",
    "        \"site_name\": site_id,\n",
    "        \"site_id\": site_id,\n",
    "        \"description\": f\"A smart data workshop site for user {username}\",\n",
    "        \"latitude\": 19.89,\n",
    "        \"longitude\": 155.58,\n",
    "        \"elevation\": 10,\n",
    "        \"metadata\": {}\n",
    "    }]\n",
    "}\n",
    "client.streams.create_site(**site)"
   ]
  },
  {
   "cell_type": "code",
   "execution_count": null,
   "metadata": {},
   "outputs": [],
   "source": [
    "#define and create instrument\n",
    "instrument = {\n",
    "    \"project_id\": project_id,\n",
    "    \"site_id\": site_id,\n",
    "    \"request_body\": [{\n",
    "        \"inst_name\": inst_id,\n",
    "        \"inst_id\": inst_id,\n",
    "        \"inst_description\": f\"A smart data workshop instrument for user {username}\",\n",
    "        \"metadata\": {}\n",
    "    }]\n",
    "}\n",
    "client.streams.create_instrument(**instrument)"
   ]
  },
  {
   "cell_type": "code",
   "execution_count": null,
   "metadata": {},
   "outputs": [],
   "source": [
    "#define and create variables\n",
    "variables = {\n",
    "    \"project_id\": project_id,\n",
    "    \"site_id\": site_id,\n",
    "    \"inst_id\": inst_id,\n",
    "    \"request_body\": [{\n",
    "        \"var_name\": \"rainfall\",\n",
    "        \"var_id\": \"rainfall\",\n",
    "        \"units\": \"mm\",\n",
    "        \"shortname\": \"rf\",\n",
    "        \"metadata\": {}\n",
    "    },\n",
    "    {\n",
    "        \"var_name\": \"temperature\",\n",
    "        \"var_id\": \"temperature\",\n",
    "        \"units\": \"C\",\n",
    "        \"shortname\": \"temp\",\n",
    "        \"metadata\": {}\n",
    "    }]\n",
    "}\n",
    "client.streams.create_variable(**variables)"
   ]
  },
  {
   "cell_type": "code",
   "execution_count": null,
   "metadata": {},
   "outputs": [],
   "source": [
    "#define variable generation information\n",
    "avg_temp_c = 27\n",
    "avg_rainfall_mm = 10\n",
    "rainfall_stddev = 3\n",
    "temp_stddev = 3"
   ]
  },
  {
   "cell_type": "code",
   "execution_count": null,
   "metadata": {},
   "outputs": [],
   "source": [
    "#generate random measurement data and create measurements\n",
    "data = []\n",
    "timestamp = datetime.fromisoformat(\"2022-01-01T00:00:00\")\n",
    "for i in range(365):\n",
    "    temp = round(gauss(avg_temp_c, temp_stddev), 2)\n",
    "    rainfall = max(round(gauss(avg_rainfall_mm, rainfall_stddev), 2), 0)\n",
    "    timestamp_s = timestamp.isoformat()\n",
    "    data.append({\n",
    "        \"datetime\": timestamp_s,\n",
    "        \"temperature\": temp,\n",
    "        \"rainfall\": rainfall\n",
    "    })\n",
    "    timestamp = timestamp + timedelta(days = 1)\n",
    "measurements = {\n",
    "    \"inst_id\": inst_id,\n",
    "    \"vars\": data\n",
    "}\n",
    "client.streams.create_measurement(**measurements)"
   ]
  },
  {
   "cell_type": "code",
   "execution_count": null,
   "metadata": {},
   "outputs": [],
   "source": [
    "#define threshold values (values exceeding 2 standard deviations)\n",
    "temp_thresholds = [avg_temp_c - temp_stddev * 2, avg_temp_c + temp_stddev * 2]\n",
    "rainfall_thresholds = [avg_rainfall_mm - rainfall_stddev * 2, avg_rainfall_mm + rainfall_stddev * 2]\n",
    "\n",
    "#get created measurements\n",
    "measurements_data = client.streams.download_measurements(inst_id = inst_id)\n",
    "\n",
    "#get data surpassing thresholds\n",
    "threshold_data = {\n",
    "    \"rainfall\": {},\n",
    "    \"temperature\": {}\n",
    "}\n",
    "for prop, val in vars(measurements_data.rainfall).items():\n",
    "    if val < rainfall_thresholds[0] or val > rainfall_thresholds[1]:\n",
    "        threshold_data[\"rainfall\"][prop] = val\n",
    "    \n",
    "for prop, val in vars(measurements_data.temperature).items():\n",
    "    if val < temp_thresholds[0] or val > temp_thresholds[1]:\n",
    "        threshold_data[\"temperature\"][prop] = val\n",
    "        \n",
    "print(threshold_data)"
   ]
  },
  {
   "cell_type": "code",
   "execution_count": null,
   "metadata": {},
   "outputs": [],
   "source": []
  },
  {
   "cell_type": "code",
   "execution_count": null,
   "metadata": {},
   "outputs": [],
   "source": [
    "actor = {\n",
    "    \"image\": \"mcleanj/outlier_processor\",\n",
    "    \"name\": \"outlier_processor\",\n",
    "    \"description\": \"A container for processing outlier values for measurements\",\n",
    "    \"default_environment\": {\n",
    "        \"USERNAME\": username\n",
    "    }\n",
    "}\n",
    "\n",
    "actor_info = client.actors.createActor(**actor)\n",
    "actor_id = actor_info.id"
   ]
  },
  {
   "cell_type": "code",
   "execution_count": null,
   "metadata": {},
   "outputs": [],
   "source": [
    "exec_info = client.actors.sendMessage(actor_id = actor_id, request_body = {\n",
    "    \"message\": \"test message\"\n",
    "})\n",
    "exec_id = exec_info.executionId"
   ]
  },
  {
   "cell_type": "code",
   "execution_count": null,
   "metadata": {},
   "outputs": [],
   "source": [
    "execution = client.actors.getExecution(actor_id = actor_id, execution_id = exec_id)\n",
    "print(execution)"
   ]
  },
  {
   "cell_type": "code",
   "execution_count": null,
   "metadata": {},
   "outputs": [],
   "source": [
    "logs = client.actors.getExecutionLogs(actor_id = actor_id, execution_id = exec_id)\n",
    "print(logs)"
   ]
  },
  {
   "cell_type": "code",
   "execution_count": null,
   "metadata": {},
   "outputs": [],
   "source": []
  }
 ],
 "metadata": {
  "kernelspec": {
   "display_name": "Python 3",
   "language": "python",
   "name": "python3"
  },
  "language_info": {
   "codemirror_mode": {
    "name": "ipython",
    "version": 3
   },
   "file_extension": ".py",
   "mimetype": "text/x-python",
   "name": "python",
   "nbconvert_exporter": "python",
   "pygments_lexer": "ipython3",
   "version": "3.8.5"
  }
 },
 "nbformat": 4,
 "nbformat_minor": 4
}

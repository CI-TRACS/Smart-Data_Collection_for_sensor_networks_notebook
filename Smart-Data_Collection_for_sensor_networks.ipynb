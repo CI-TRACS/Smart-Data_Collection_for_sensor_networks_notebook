{
 "cells": [
  {
   "cell_type": "code",
   "execution_count": null,
   "metadata": {},
   "outputs": [],
   "source": [
    "import getpass\n",
    "from tapipy.tapis import Tapis"
   ]
  },
  {
   "cell_type": "code",
   "execution_count": null,
   "metadata": {},
   "outputs": [],
   "source": [
    "username = getpass.getpass(prompt = \"Username: \", stream=None)\n",
    "password = getpass.getpass(prompt = \"Password: \", stream=None)\n",
    "\n",
    "base_url = \"https://tacc.tapis.io\"\n",
    "\n",
    "client = Tapis(\n",
    "    base_url = base_url, \n",
    "    username = username,\n",
    "    password = password\n",
    ") \n",
    "\n",
    "#generate access token\n",
    "client.get_tokens()"
   ]
  },
  {
   "cell_type": "code",
   "execution_count": null,
   "metadata": {},
   "outputs": [],
   "source": [
    "project = {\n",
    "    \"project_name\": f\"smart_data_workshop_{username}\",\n",
    "    \"description\": \"A smart data workshop project for user %s\" % username,\n",
    "    \"owner\": username,\n",
    "    \"pi\": username,\n",
    "    \"active\": True,\n",
    "    \"metadata\": {}\n",
    "}\n",
    "client.streams.create_project(**project)"
   ]
  },
  {
   "cell_type": "code",
   "execution_count": null,
   "metadata": {},
   "outputs": [],
   "source": [
    "site = {\n",
    "    \"project_id\": \"project[],\n",
    "    \"site_name\": \"smart_data_workshop_%s\" % username,\n",
    "    \"site_id\": \"smart_data_workshop_%s\" % username,\n",
    "    \"description\": \"A smart data workshop project for user %s\" % username,\n",
    "    \"owner\": username,\n",
    "    \"pi\": username,\n",
    "    \"active\": True,\n",
    "    \"metadata\": {}\n",
    "}\n",
    "client.streams.create_site(**site)"
   ]
  },
  {
   "cell_type": "code",
   "execution_count": null,
   "metadata": {},
   "outputs": [],
   "source": [
    "instrument = {\n",
    "    \"project_id\": \"project[],\n",
    "    \"site_name\": \"smart_data_workshop_%s\" % username,\n",
    "    \"site_id\": \"smart_data_workshop_%s\" % username,\n",
    "    \"description\": \"A smart data workshop project for user %s\" % username,\n",
    "    \"owner\": username,\n",
    "    \"pi\": username,\n",
    "    \"active\": True,\n",
    "    \"metadata\": {}\n",
    "}\n",
    "client.streams.create_project(**instrument)"
   ]
  },
  {
   "cell_type": "code",
   "execution_count": null,
   "metadata": {},
   "outputs": [],
   "source": [
    "variable = {\n",
    "    \"project_id\": \"project[],\n",
    "    \"site_name\": \"smart_data_workshop_%s\" % username,\n",
    "    \"site_id\": \"smart_data_workshop_%s\" % username,\n",
    "    \"description\": \"A smart data workshop project for user %s\" % username,\n",
    "    \"owner\": username,\n",
    "    \"pi\": username,\n",
    "    \"active\": True,\n",
    "    \"metadata\": {}\n",
    "}\n",
    "client.streams.create_project(**variable)"
   ]
  },
  {
   "cell_type": "code",
   "execution_count": null,
   "metadata": {},
   "outputs": [],
   "source": [
    "measurements = {\n",
    "    \n",
    "}\n"
   ]
  },
  {
   "cell_type": "code",
   "execution_count": null,
   "metadata": {},
   "outputs": [],
   "source": []
  },
  {
   "cell_type": "code",
   "execution_count": null,
   "metadata": {},
   "outputs": [],
   "source": [
    "actor = {\n",
    "    \"image\": \"abacosamples/test\",\n",
    "    \"name\": \"test\",\n",
    "    \"description\": \"test\"\n",
    "}\n",
    "\n",
    "actor_info = client.actors.createActor(**actor)\n",
    "actor_id = actor_info.id\n",
    "print(actor_id)"
   ]
  },
  {
   "cell_type": "code",
   "execution_count": null,
   "metadata": {},
   "outputs": [],
   "source": [
    "exec_info = client.actors.sendMessage(actor_id = actor_id, request_body = {\n",
    "    \"message\": \"test message\"\n",
    "})\n",
    "exec_id = exec_info.executionId"
   ]
  },
  {
   "cell_type": "code",
   "execution_count": null,
   "metadata": {},
   "outputs": [],
   "source": [
    "execution = client.actors.getExecution(actor_id = actor_id, execution_id = exec_id)\n",
    "print(execution)"
   ]
  },
  {
   "cell_type": "code",
   "execution_count": null,
   "metadata": {},
   "outputs": [],
   "source": [
    "logs = client.actors.getExecutionLogs(actor_id = actor_id, execution_id = exec_id)\n",
    "print(logs)"
   ]
  },
  {
   "cell_type": "code",
   "execution_count": null,
   "metadata": {},
   "outputs": [],
   "source": []
  }
 ],
 "metadata": {
  "kernelspec": {
   "display_name": "Python 3",
   "language": "python",
   "name": "python3"
  },
  "language_info": {
   "codemirror_mode": {
    "name": "ipython",
    "version": 3
   },
   "file_extension": ".py",
   "mimetype": "text/x-python",
   "name": "python",
   "nbconvert_exporter": "python",
   "pygments_lexer": "ipython3",
   "version": "3.8.5"
  }
 },
 "nbformat": 4,
 "nbformat_minor": 4
}

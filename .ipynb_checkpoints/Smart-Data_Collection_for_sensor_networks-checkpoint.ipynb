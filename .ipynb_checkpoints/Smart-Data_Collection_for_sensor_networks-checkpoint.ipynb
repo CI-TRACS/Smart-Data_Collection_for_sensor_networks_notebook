{
 "cells": [
  {
   "cell_type": "code",
   "execution_count": null,
   "metadata": {},
   "outputs": [],
   "source": [
    "import getpass\n",
    "from datetime import datetime, timedelta\n",
    "from tapipy.tapis import Tapis\n",
    "from time import time_ns"
   ]
  },
  {
   "cell_type": "code",
   "execution_count": null,
   "metadata": {},
   "outputs": [],
   "source": [
    "username = getpass.getpass(prompt = \"Username: \", stream=None)\n",
    "password = getpass.getpass(prompt = \"Password: \", stream=None)\n",
    "\n",
    "base_url = \"https://training.tapis.io\"\n",
    "\n",
    "client = Tapis(\n",
    "    base_url = base_url, \n",
    "    username = username,\n",
    "    password = password\n",
    ") \n",
    "\n",
    "#generate access token\n",
    "client.get_tokens()"
   ]
  },
  {
   "cell_type": "code",
   "execution_count": null,
   "metadata": {},
   "outputs": [],
   "source": [
    "client.access_token"
   ]
  },
  {
   "cell_type": "code",
   "execution_count": null,
   "metadata": {},
   "outputs": [],
   "source": [
    "unique_id = f\"{username}_{str(time_ns())[-10:]}\"\n",
    "unique_id"
   ]
  },
  {
   "cell_type": "code",
   "execution_count": null,
   "metadata": {},
   "outputs": [],
   "source": [
    "project_id = f\"smart_data_workshop_project_{unique_id}\"\n",
    "site_id = f\"smart_data_workshop_site_{unique_id}\"\n",
    "inst_id = f\"smart_data_workshop_instrument_{unique_id}\""
   ]
  },
  {
   "cell_type": "code",
   "execution_count": null,
   "metadata": {},
   "outputs": [],
   "source": [
    "#define and create project\n",
    "project = {\n",
    "    \"project_name\": project_id,\n",
    "    \"description\": f\"A smart data workshop project for user {username}\",\n",
    "    \"owner\": username,\n",
    "    \"pi\": username,\n",
    "    \"active\": True,\n",
    "    \"metadata\": {}\n",
    "}\n",
    "proj = client.streams.create_project(**project)\n",
    "proj"
   ]
  },
  {
   "cell_type": "code",
   "execution_count": null,
   "metadata": {},
   "outputs": [],
   "source": [
    "#define and create site\n",
    "site = {\n",
    "    \"project_id\": project_id,\n",
    "    \"request_body\": [{\n",
    "        \"site_name\": site_id,\n",
    "        \"site_id\": site_id,\n",
    "        \"description\": f\"A smart data workshop site for user {username}\",\n",
    "        \"latitude\": 19.89,\n",
    "        \"longitude\": 155.58,\n",
    "        \"elevation\": 10,\n",
    "        \"metadata\": {}\n",
    "    }]\n",
    "}\n",
    "site = client.streams.create_site(**site)\n",
    "site"
   ]
  },
  {
   "cell_type": "code",
   "execution_count": null,
   "metadata": {},
   "outputs": [],
   "source": [
    "#define and create instrument\n",
    "instrument = {\n",
    "    \"project_id\": project_id,\n",
    "    \"site_id\": site_id,\n",
    "    \"request_body\": [{\n",
    "        \"inst_name\": inst_id,\n",
    "        \"inst_id\": inst_id,\n",
    "        \"inst_description\": f\"A smart data workshop instrument for user {username}\",\n",
    "        \"metadata\": {}\n",
    "    }]\n",
    "}\n",
    "inst = client.streams.create_instrument(**instrument)\n",
    "inst"
   ]
  },
  {
   "cell_type": "code",
   "execution_count": null,
   "metadata": {},
   "outputs": [],
   "source": [
    "#define and create variables\n",
    "variables = {\n",
    "    \"project_id\": project_id,\n",
    "    \"site_id\": site_id,\n",
    "    \"inst_id\": inst_id,\n",
    "    \"request_body\": [{\n",
    "        \"var_name\": \"rainfall\",\n",
    "        \"var_id\": \"rainfall\",\n",
    "        \"units\": \"mm\",\n",
    "        \"shortname\": \"rf\",\n",
    "        \"metadata\": {}\n",
    "    },\n",
    "    {\n",
    "        \"var_name\": \"temperature\",\n",
    "        \"var_id\": \"temperature\",\n",
    "        \"units\": \"C\",\n",
    "        \"shortname\": \"temp\",\n",
    "        \"metadata\": {}\n",
    "    }]\n",
    "}\n",
    "streams_vars = client.streams.create_variable(**variables)\n",
    "streams_vars"
   ]
  },
  {
   "cell_type": "code",
   "execution_count": null,
   "metadata": {},
   "outputs": [],
   "source": [
    "#Write Measurements - For today \n",
    "from datetime import datetime\n",
    "import random\n",
    "from random import randint\n",
    "from datetime import timedelta\n",
    "variables = []\n",
    "#generate 10 sensor records\n",
    "for i in range(0, 100):\n",
    "    time = datetime.now() + timedelta(minutes=i)\n",
    "    time_s = time.isoformat() \n",
    "    variables.append({\"temperature\": randint(60, 89),\n",
    "                        \"rainfall\": randint(10, 200),\n",
    "                        \"datetime\": time_s\n",
    "                        })\n",
    "#write observations to measurements endpoint for our instrument\n",
    "result = client.streams.create_measurement(inst_id=inst_id, vars=variables)\n",
    "print(result)"
   ]
  },
  {
   "cell_type": "code",
   "execution_count": null,
   "metadata": {},
   "outputs": [],
   "source": [
    "#Download measurments as CSV\n",
    "result = client.streams.list_measurements(inst_id=inst_id,\n",
    "                                                    project_id=project_id, \n",
    "                                                    site_id=site_id,\n",
    "                                                    start_date='2021-01-01T00:00:00Z',\n",
    "                                                    end_date='2025-12-30T22:19:25Z',\n",
    "                                                    format='csv')\n",
    "result"
   ]
  },
  {
   "cell_type": "code",
   "execution_count": null,
   "metadata": {},
   "outputs": [],
   "source": [
    "#Read Measurements to Data Frame\n",
    "import pandas as pd\n",
    "from io import StringIO\n",
    "input = StringIO(str(result,'utf-8'))\n",
    "df = pd.read_csv(input)\n",
    "df['datetime']=pd.to_datetime(df['time'])\n",
    "df.set_index('datetime',inplace=True)\n",
    "df.pop('time')\n",
    "df"
   ]
  },
  {
   "cell_type": "code",
   "execution_count": null,
   "metadata": {},
   "outputs": [],
   "source": [
    "# Plot Measurements in the DataFrame\n",
    "import matplotlib.pyplot as plt\n",
    "import matplotlib.dates as md\n",
    "%matplotlib inline\n",
    "xfmt = md.DateFormatter('%H:%M:%S')\n",
    "df.plot(lw=1, colormap='jet', marker='.', \n",
    "        markersize=12, title='Timeseries Stream Output', rot=90).xaxis.set_major_formatter(xfmt)\n",
    "plt.tight_layout()\n",
    "plt.legend(loc='best')\n",
    "plt.savefig('test.png')"
   ]
  },
  {
   "cell_type": "code",
   "execution_count": null,
   "metadata": {},
   "outputs": [],
   "source": [
    "#Create a storage system in Tapis so we can upload and download data from our server\n",
    "#NOTE you system id needs to be unique across Tapis- so add your last_name\n",
    "system_id = \"training_tutorial_vm_\" + unique_id\n",
    "\n",
    "system_config = {\n",
    "    \"id\": system_id,\n",
    "    \"description\": \"VM storage\",\n",
    "    \"host\": \"149.165.153.42\",\n",
    "    \"systemType\": \"LINUX\",\n",
    "    \"defaultAuthnMethod\": \"PASSWORD\",\n",
    "    \"effectiveUserId\": username,\n",
    "    \"rootDir\": f\"/home/{username}/\",\n",
    "    \"canExec\": False\n",
    "}\n",
    "\n",
    "system = client.systems.createSystem(**system_config)\n",
    "system"
   ]
  },
  {
   "cell_type": "code",
   "execution_count": null,
   "metadata": {},
   "outputs": [],
   "source": [
    "# Add login credentials so Tapis can access the system - NORMALLY WE USED SSH KEYS but for this tutorial we will utilize the password auth\n",
    "#NOTE you need to update the systemId to what you used above\n",
    "client.systems.createUserCredential(systemId=system_id,userName=username, password=password)"
   ]
  },
  {
   "cell_type": "code",
   "execution_count": null,
   "metadata": {},
   "outputs": [],
   "source": [
    "#List the files in our home directory\n",
    "#NOTE the system id needs to be updated\n",
    "client.files.listFiles(systemId=system_id, path=\"/\")"
   ]
  },
  {
   "cell_type": "code",
   "execution_count": null,
   "metadata": {},
   "outputs": [],
   "source": [
    "#Create an Actor that we can pass to a channel to execute when a threshold triggers\n",
    "#NOTE update the name and the system_id\n",
    "my_actor = client.actors.create_actor(image=\"scleveland/test_actor:0.0.29\",\n",
    "                                     name=\"Plot Streams Data-1\",\n",
    "                                     description=\"Actor that plots streams measurements.\",\n",
    "                                     default_environment={\"system_id\": system_id, \"destination_path\": \"/\"})\n",
    "                                     \n",
    "                                     \n",
    "my_actor"
   ]
  },
  {
   "cell_type": "code",
   "execution_count": null,
   "metadata": {},
   "outputs": [],
   "source": [
    "#Create a Channel to check for our Temperature exceeding 100- then execute an Actor to generate a plot and upload to our system\n",
    "#NOTE you have to change you channel id to a unique one - add your lastname\n",
    "channel_id = f\"demo.tapis.channel-{unique_id}\"\n",
    "channel = client.streams.create_channels(channel_id=channel_id, \n",
    "                            channel_name=channel_id, \n",
    "                            template_id=\"default_threshold\",\n",
    "                            triggers_with_actions=[\n",
    "                                {\"inst_ids\":[inst_id],\n",
    "                                \"condition\":{\"key\":inst_id+\".temperature\",\n",
    "                                              \"operator\":\">\", \n",
    "                                              \"val\":100},\n",
    "                                 \"action\":{\"method\":\"ACTOR\",\"actor_id\" : my_actor.id,\n",
    "                                           \"message\":\"Instrument: exceeded Temperature threshold\"}}])\n",
    "channel"
   ]
  },
  {
   "cell_type": "code",
   "execution_count": null,
   "metadata": {},
   "outputs": [],
   "source": [
    "client.streams.list_channels()"
   ]
  },
  {
   "cell_type": "code",
   "execution_count": null,
   "metadata": {},
   "outputs": [],
   "source": [
    "#Write Measurements - to trigger our Channel\n",
    "from datetime import datetime\n",
    "import random\n",
    "from random import randint\n",
    "#create measurement to trigger channel\n",
    "variables = [{\"temperature\": 230,\n",
    "    \"rainfall\": 0,\n",
    "    \"datetime\":datetime_now\n",
    "}]\n",
    "#write observations to measurements endpoint for our instrument\n",
    "result = client.streams.create_measurement(inst_id=inst_id, vars=variables)\n",
    "result"
   ]
  },
  {
   "cell_type": "code",
   "execution_count": null,
   "metadata": {},
   "outputs": [],
   "source": [
    "#List the Alerts issued on our Channel\n",
    "client.streams.list_alerts(channel_id=channel.channel_id)"
   ]
  },
  {
   "cell_type": "code",
   "execution_count": null,
   "metadata": {},
   "outputs": [],
   "source": [
    "#Fetch the latest alert and assign to a variable\n",
    "alert = client.streams.list_alerts(channel_id=channel.channel_id).alerts[0]"
   ]
  },
  {
   "cell_type": "code",
   "execution_count": null,
   "metadata": {},
   "outputs": [],
   "source": [
    "#Fetch our Actor execution log\n",
    "client.actors.get_execution_logs(actor_id=alert.actor_id, \n",
    "                                 execution_id=alert.execution_id)"
   ]
  },
  {
   "cell_type": "code",
   "execution_count": null,
   "metadata": {},
   "outputs": [],
   "source": [
    "#View our files on our VM - we should see the new plot file\n",
    "client.files.listFiles(systemId=system_id, path=\"/\")"
   ]
  },
  {
   "cell_type": "code",
   "execution_count": null,
   "metadata": {},
   "outputs": [],
   "source": [
    "#Lets download the file to view here in our notebook\n",
    "fileb =  client.files.getContents(systemId=system_id,path='/plot_2022-03-04T23:10:10Z.png')\n",
    "with open(\"download.png\",\"wb\") as f:\n",
    "    f.write(fileb)\n",
    "    f.close()"
   ]
  },
  {
   "cell_type": "code",
   "execution_count": null,
   "metadata": {},
   "outputs": [],
   "source": [
    "channel_id=f\"training.discord.demo.tapis.channel_{unique_id}\"\n",
    "discord_channel = client.streams.create_channels(channel_id=channel_id, \n",
    "                            channel_name=channel_id, \n",
    "                            template_id=\"default_threshold\",\n",
    "                            triggers_with_actions=[\n",
    "                                {\"inst_ids\":[inst_id],\n",
    "                                 \"condition\":{\"key\":inst_id+\".rainfall\",\n",
    "                                              \"operator\":\">\", \n",
    "                                              \"val\":150},\n",
    "                                 \"action\":{\"method\":\"DISCORD\",\"webhook_url\" :\"https://discordapp.com/api/webhooks/949475414785523784/aXA7xwx_Zi2PxPsfG8QvjAC48ts191PFS2wchO8dmcSoJUE8PrLlxWxkrfMII3AjPsgO\",\n",
    "                                           \"message\":\"My Instrument exceeded Rainfall threshold val ${ r.value}\"}}], _tapis_debug=True)\n",
    "discord_channel\n"
   ]
  },
  {
   "cell_type": "code",
   "execution_count": null,
   "metadata": {},
   "outputs": [],
   "source": [
    "#Write Measurements - to trigger our Discord Channel\n",
    "variables = [{\"temperature\": 80,\n",
    "    \"rainfall\": 151,\n",
    "    \"datetime\":datetime_now\n",
    "}]\n",
    "#write observations to measurements endpoint for our instrument\n",
    "result = client.streams.create_measurement(inst_id=inst_id, vars=variables)\n",
    "result"
   ]
  },
  {
   "cell_type": "code",
   "execution_count": null,
   "metadata": {},
   "outputs": [],
   "source": []
  }
 ],
 "metadata": {
  "kernelspec": {
   "display_name": "Python 3 (ipykernel)",
   "language": "python",
   "name": "python3"
  },
  "language_info": {
   "codemirror_mode": {
    "name": "ipython",
    "version": 3
   },
   "file_extension": ".py",
   "mimetype": "text/x-python",
   "name": "python",
   "nbconvert_exporter": "python",
   "pygments_lexer": "ipython3",
   "version": "3.9.12"
  }
 },
 "nbformat": 4,
 "nbformat_minor": 4
}
